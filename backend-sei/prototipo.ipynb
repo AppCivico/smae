{
 "cells": [
  {
   "cell_type": "code",
   "execution_count": 1,
   "id": "40e31082-d11f-4e8f-99ce-4e9533729766",
   "metadata": {},
   "outputs": [],
   "source": [
    "from core.config import WSDL, USER, PASSW\n",
    "from zeep import Client\n"
   ]
  },
  {
   "cell_type": "code",
   "execution_count": 2,
   "id": "a2727a1f-cbc2-43f9-aba2-db5c59eb8661",
   "metadata": {},
   "outputs": [],
   "source": [
    "from core.soap import SEIClient\n"
   ]
  },
  {
   "cell_type": "code",
   "execution_count": 3,
   "id": "766ae948-3cce-4f4e-b5b4-cae9362f8c8a",
   "metadata": {},
   "outputs": [],
   "source": [
    "sei = SEIClient()"
   ]
  },
  {
   "cell_type": "code",
   "execution_count": 4,
   "id": "56b50554-596a-4e74-b4f6-04a74a2c9ce4",
   "metadata": {
    "tags": []
   },
   "outputs": [
    {
     "data": {
      "text/plain": [
       "['adicionarArquivo',\n",
       " 'adicionarConteudoArquivo',\n",
       " 'agendarPublicacao',\n",
       " 'alterarPublicacao',\n",
       " 'anexarProcesso',\n",
       " 'atribuirProcesso',\n",
       " 'atualizarContatos',\n",
       " 'bloquearDocumento',\n",
       " 'bloquearProcesso',\n",
       " 'cancelarAgendamentoPublicacao',\n",
       " 'cancelarDisponibilizacaoBloco',\n",
       " 'cancelarDocumento',\n",
       " 'concluirBloco',\n",
       " 'concluirControlePrazo',\n",
       " 'concluirProcesso',\n",
       " 'confirmarDisponibilizacaoPublicacao',\n",
       " 'consultarBloco',\n",
       " 'consultarDocumento',\n",
       " 'consultarProcedimento',\n",
       " 'consultarProcedimentoIndividual',\n",
       " 'consultarPublicacao',\n",
       " 'definirControlePrazo',\n",
       " 'definirMarcador',\n",
       " 'desanexarProcesso',\n",
       " 'desbloquearProcesso',\n",
       " 'devolverBloco',\n",
       " 'disponibilizarBloco',\n",
       " 'enviarEmail',\n",
       " 'enviarProcesso',\n",
       " 'excluirBloco',\n",
       " 'excluirDocumento',\n",
       " 'excluirProcesso',\n",
       " 'gerarBloco',\n",
       " 'gerarProcedimento',\n",
       " 'incluirDocumento',\n",
       " 'incluirDocumentoBloco',\n",
       " 'incluirProcessoBloco',\n",
       " 'lancarAndamento',\n",
       " 'listarAndamentos',\n",
       " 'listarAndamentosMarcadores',\n",
       " 'listarCargos',\n",
       " 'listarCidades',\n",
       " 'listarContatos',\n",
       " 'listarEstados',\n",
       " 'listarExtensoesPermitidas',\n",
       " 'listarFeriados',\n",
       " 'listarHipotesesLegais',\n",
       " 'listarMarcadoresUnidade',\n",
       " 'listarPaises',\n",
       " 'listarSeries',\n",
       " 'listarTiposConferencia',\n",
       " 'listarTiposPrioridade',\n",
       " 'listarTiposProcedimento',\n",
       " 'listarTiposProcedimentoOuvidoria',\n",
       " 'listarUnidades',\n",
       " 'listarUsuarios',\n",
       " 'reabrirBloco',\n",
       " 'reabrirProcesso',\n",
       " 'registrarAnotacao',\n",
       " 'registrarOuvidoria',\n",
       " 'relacionarProcesso',\n",
       " 'removerControlePrazo',\n",
       " 'removerRelacionamentoProcesso',\n",
       " 'removerSobrestamentoProcesso',\n",
       " 'retirarDocumentoBloco',\n",
       " 'retirarProcessoBloco',\n",
       " 'sobrestarProcesso']"
      ]
     },
     "execution_count": 4,
     "metadata": {},
     "output_type": "execute_result"
    }
   ],
   "source": [
    "sei.service_lst"
   ]
  },
  {
   "cell_type": "code",
   "execution_count": 15,
   "id": "e56be097-e0fc-4ac7-85e6-a6f73a9a8b0e",
   "metadata": {},
   "outputs": [
    {
     "data": {
      "text/plain": [
       "OrderedDict([('id_procedimento', '1079916'),\n",
       "             ('procedimento_formatado', '6027.2016/0000332-3'),\n",
       "             ('id_documento', '115140193'),\n",
       "             ('documento_formatado', '107733272'),\n",
       "             ('link_acesso',\n",
       "              'https://sei.prefeitura.sp.gov.br/sei/controlador.php?acao=procedimento_trabalhar&id_procedimento=1079916&id_documento=115140193'),\n",
       "             ('nivel_acesso_local', '0'),\n",
       "             ('nivel_acesso_global', '1'),\n",
       "             ('serie',\n",
       "              OrderedDict([('id_serie', '236'),\n",
       "                           ('nome', 'Informação'),\n",
       "                           ('aplicabilidade', None)])),\n",
       "             ('numero', None),\n",
       "             ('nome_arvore', None),\n",
       "             ('din_valor', None),\n",
       "             ('descricao', None),\n",
       "             ('data', '30/07/2024'),\n",
       "             ('unidade_elaboradora',\n",
       "              OrderedDict([('id_unidade', '110009439'),\n",
       "                           ('sigla', 'SEGES/COEGE/DAMCAT'),\n",
       "                           ('descricao',\n",
       "                            'Divisão de Alocação e Monitoramento de Carreiras Transversais'),\n",
       "                           ('sin_protocolo', None),\n",
       "                           ('sin_arquivamento', None),\n",
       "                           ('sin_ouvidoria', None)])),\n",
       "             ('andamento_geracao',\n",
       "              OrderedDict([('id_andamento', None),\n",
       "                           ('id_tarefa', None),\n",
       "                           ('id_tarefa_modulo', None),\n",
       "                           ('descricao',\n",
       "                            'Gerado documento público 107733272 (Informação)'),\n",
       "                           ('data_hora', '30/07/2024 15:23:04'),\n",
       "                           ('unidade',\n",
       "                            OrderedDict([('id_unidade', '110009439'),\n",
       "                                         ('sigla', 'SEGES/COEGE/DAMCAT'),\n",
       "                                         ('descricao',\n",
       "                                          'Divisão de Alocação e Monitoramento de Carreiras Transversais'),\n",
       "                                         ('sin_protocolo', None),\n",
       "                                         ('sin_arquivamento', None),\n",
       "                                         ('sin_ouvidoria', None)])),\n",
       "                           ('usuario',\n",
       "                            OrderedDict([('id_usuario', '100088691'),\n",
       "                                         ('sigla', 'd921466'),\n",
       "                                         ('nome',\n",
       "                                          'Vivian Gaione Lima de Souza')])),\n",
       "                           ('atributos', None)])),\n",
       "             ('assinaturas',\n",
       "              [OrderedDict([('nome', 'Vivian Gaione Lima de Souza'),\n",
       "                            ('cargo_funcao', 'Diretor(a) Substituto(a)'),\n",
       "                            ('data_hora', '30/07/2024 15:24:57'),\n",
       "                            ('id_usuario', '100088691'),\n",
       "                            ('id_origem', None),\n",
       "                            ('id_orgao', '4'),\n",
       "                            ('sigla', 'd921466')])]),\n",
       "             ('publicacao',\n",
       "              OrderedDict([('id_publicacao', None),\n",
       "                           ('id_documento', None),\n",
       "                           ('sta_motivo', None),\n",
       "                           ('resumo', None),\n",
       "                           ('id_veiculo_publicacao', None),\n",
       "                           ('nome_veiculo', None),\n",
       "                           ('sta_tipo_veiculo', None),\n",
       "                           ('numero', None),\n",
       "                           ('data_disponibilizacao', None),\n",
       "                           ('data_publicacao', None),\n",
       "                           ('estado', None),\n",
       "                           ('imprensa_nacional', None)])),\n",
       "             ('campos', []),\n",
       "             ('blocos', [])])"
      ]
     },
     "execution_count": 15,
     "metadata": {},
     "output_type": "execute_result"
    }
   ],
   "source": [
    "sei('consultarDocumento', id_unidade='', protocolo_documento='107733272',\n",
    "   sin_retornar_andamento_geracao='S', sin_retornar_assinaturas='S',\n",
    "   sin_retornar_publicacao='N', sin_retornar_campos='S', sin_retornar_blocos='S', array_return=False)"
   ]
  },
  {
   "cell_type": "code",
   "execution_count": null,
   "id": "13b0c579-b93f-459c-9e56-2085fb9d9419",
   "metadata": {},
   "outputs": [],
   "source": [
    "client = Client(WSDL)"
   ]
  },
  {
   "cell_type": "code",
   "execution_count": null,
   "id": "8a711cae-a19e-47b2-b8e2-ba7422f5e37e",
   "metadata": {},
   "outputs": [],
   "source": [
    "client.service.gerarProcedimento(SiglaSistema=USER,\n",
    "                              IdentificacaoServico=PASSW,\n",
    "                                IdUnidade='110007142')"
   ]
  },
  {
   "cell_type": "code",
   "execution_count": null,
   "id": "5958cb27-3c03-4e40-9dde-230cc3bb3a49",
   "metadata": {},
   "outputs": [],
   "source": [
    "tipos_processo = client.service.listarTiposProcedimento(SiglaSistema=USER,\n",
    "                              IdentificacaoServico=PASSW,\n",
    "                                      IdUnidade=Nil,\n",
    "                                      IdSerie=Nil)"
   ]
  },
  {
   "cell_type": "code",
   "execution_count": null,
   "id": "5104bdae-99b2-44bc-bf8a-3907e412445e",
   "metadata": {
    "tags": []
   },
   "outputs": [],
   "source": [
    "client.service.listarSeries(SiglaSistema=USER,\n",
    "                            IdentificacaoServico=PASSW,\n",
    "                            IdUnidade=Nil,\n",
    "                            IdTipoProcedimento=Nil)"
   ]
  },
  {
   "cell_type": "code",
   "execution_count": null,
   "id": "cb70a2bc-f477-4a6f-a451-c299de2ef552",
   "metadata": {},
   "outputs": [],
   "source": [
    "client."
   ]
  },
  {
   "cell_type": "code",
   "execution_count": null,
   "id": "c19248a2-b8a6-4dc0-a35c-5709331a1089",
   "metadata": {},
   "outputs": [],
   "source": [
    "client.service.gerarProcedimento(SiglaSistema=USER,\n",
    "                              IdentificacaoServico=PASSW,\n",
    "                             IdUnidade='110006775',\n",
    "                                Procedimento=proc)"
   ]
  },
  {
   "cell_type": "code",
   "execution_count": null,
   "id": "6c32c291-ff2a-4b7a-ad7b-5597ed0d74bf",
   "metadata": {},
   "outputs": [],
   "source": [
    "tipo_procedimento = client.get_type('ns0:Procedimento')"
   ]
  },
  {
   "cell_type": "code",
   "execution_count": null,
   "id": "bdd9f4b8-7f83-4b7c-a89a-102be17724e6",
   "metadata": {},
   "outputs": [],
   "source": [
    "tipo_doc = client.get_type('ns0:Documento')"
   ]
  },
  {
   "cell_type": "code",
   "execution_count": null,
   "id": "e20593c5-8d64-4b4b-97a6-4fa6b61deb0f",
   "metadata": {},
   "outputs": [],
   "source": [
    "tipo_doc(M=0)"
   ]
  },
  {
   "cell_type": "code",
   "execution_count": null,
   "id": "87c50dd4-e543-48fa-9134-94e54723ae31",
   "metadata": {},
   "outputs": [],
   "source": [
    "proc = tipo_procedimento(1)"
   ]
  },
  {
   "cell_type": "code",
   "execution_count": null,
   "id": "0779beb8-e667-4c06-933f-22839e4a0b68",
   "metadata": {},
   "outputs": [],
   "source": [
    "tipo_procedimento = client.get_type('ns0:Assunto')"
   ]
  },
  {
   "cell_type": "code",
   "execution_count": null,
   "id": "471ccb26-e260-4da0-92af-699ccc2ab61b",
   "metadata": {},
   "outputs": [],
   "source": [
    "tipo_procedimento()"
   ]
  },
  {
   "cell_type": "code",
   "execution_count": null,
   "id": "6e5a52b6-389d-4cf1-b321-41a5b6259417",
   "metadata": {},
   "outputs": [],
   "source": [
    "client.service."
   ]
  },
  {
   "cell_type": "code",
   "execution_count": null,
   "id": "c6c9e3ec-017c-4952-956c-18cc9b42c7c2",
   "metadata": {},
   "outputs": [],
   "source": [
    "from core.dao.basic import lst_unidades, lst_tipos_processo, lst_tipos_documento"
   ]
  },
  {
   "cell_type": "code",
   "execution_count": null,
   "id": "d55c1580-ab2d-4a9e-b4b3-8cac6cd30434",
   "metadata": {},
   "outputs": [],
   "source": [
    "[uni for uni in lst_unidades() if 'governo' in uni['Descricao'].lower()]"
   ]
  },
  {
   "cell_type": "code",
   "execution_count": null,
   "id": "329e7a3b-d56a-40a9-aefa-a64dd63591fc",
   "metadata": {
    "tags": []
   },
   "outputs": [],
   "source": [
    "lst_unidades()"
   ]
  },
  {
   "cell_type": "code",
   "execution_count": null,
   "id": "b8c72699-2d91-44e5-b5a5-ddc51b963ec7",
   "metadata": {
    "tags": []
   },
   "outputs": [],
   "source": [
    "lst_tipos_processo()"
   ]
  },
  {
   "cell_type": "code",
   "execution_count": null,
   "id": "25e3a3ca-6423-4991-8a14-2d3d98e9ea1f",
   "metadata": {
    "tags": []
   },
   "outputs": [],
   "source": [
    "lst_tipos_documento()[:10]"
   ]
  },
  {
   "cell_type": "code",
   "execution_count": null,
   "id": "30d9233d-dd2c-4714-b4f6-988a0b9ebdd5",
   "metadata": {},
   "outputs": [],
   "source": [
    "#criar endpoint para os assuntos\n",
    "\n",
    "#vai puxar as unidades e os assuntos, tipo de processo vamos criar um padrão\n",
    "\n",
    "#sempre restrito \n",
    "#validar a hipótese legal - sempre como documento preparatório\n",
    "# no tipo de documento usar um tipo de documento já existente que se aplique - deixar hardcoded\n",
    "\n",
    "#nome do documento = Plano de Projeto\n",
    "#nivel de acesso do documento é restrito\n",
    "\n",
    "#vamos criar uma capa do projeto\n",
    "\n",
    "#NomeArquivo tem que colocar a extensão\n",
    "\n",
    "# o arquivo vai ser um zip"
   ]
  }
 ],
 "metadata": {
  "kernelspec": {
   "display_name": "Python 3",
   "language": "python",
   "name": "python3"
  },
  "language_info": {
   "codemirror_mode": {
    "name": "ipython",
    "version": 3
   },
   "file_extension": ".py",
   "mimetype": "text/x-python",
   "name": "python",
   "nbconvert_exporter": "python",
   "pygments_lexer": "ipython3",
   "version": "3.8.8"
  }
 },
 "nbformat": 4,
 "nbformat_minor": 5
}
