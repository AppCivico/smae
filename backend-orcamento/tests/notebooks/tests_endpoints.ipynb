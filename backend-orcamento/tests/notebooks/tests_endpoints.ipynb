{
 "cells": [
  {
   "cell_type": "code",
   "execution_count": 1,
   "id": "ed9dfa6c-590a-4dc8-bd7d-991ee41234f3",
   "metadata": {},
   "outputs": [
    {
     "name": "stdout",
     "output_type": "stream",
     "text": [
      "/home/h-pgy/Desktop/Projetos/middleware_orcamento_smae\n"
     ]
    }
   ],
   "source": [
    "#viabiliza imports do root dir do proj\n",
    "import os\n",
    "import sys\n",
    "proj_dir = os.path.split(os.path.abspath('..'))[0]\n",
    "print(proj_dir)\n",
    "if proj_dir not in sys.path:\n",
    "    sys.path.append(proj_dir)"
   ]
  },
  {
   "cell_type": "code",
   "execution_count": 2,
   "id": "feff8f93-78e2-4441-888b-6973324b897b",
   "metadata": {},
   "outputs": [],
   "source": [
    "import requests\n",
    "from core.utils import run_server"
   ]
  },
  {
   "cell_type": "code",
   "execution_count": 3,
   "id": "ec0952dd-3823-48ff-9c09-f2b1114878cc",
   "metadata": {},
   "outputs": [],
   "source": [
    "def get_request(endpoint:str, base_url = 'http://localhost', **params)->dict:\n",
    "    \n",
    "    url = base_url + endpoint\n",
    "    \n",
    "    if params:\n",
    "        params = [f'{key}={val}' for key, val in params.items()]\n",
    "        params = '&'.join(params)\n",
    "        url = url + '?' + params\n",
    "        \n",
    "    with requests.get(url) as r:\n",
    "        return r.json()"
   ]
  },
  {
   "cell_type": "code",
   "execution_count": 4,
   "id": "c2ed8bfb-92c1-4d8e-bf48-e3a4e36e90fc",
   "metadata": {},
   "outputs": [],
   "source": [
    "def post_request(endpoint:str, data:dict, base_url = 'http://localhost',\n",
    "                 **params)->dict:\n",
    "    \n",
    "    url = base_url + endpoint\n",
    "    \n",
    "    if params:\n",
    "        params = [f'{key}={val}' for key, val in params.items()]\n",
    "        params = '&'.join(params)\n",
    "        url = url + '?' + params\n",
    "        \n",
    "    with requests.post(url, json=data, \n",
    "                       headers={'Content-Type': 'application/json',\n",
    "                               'accept': 'application/json'}) as r:\n",
    "\n",
    "        return r.json()"
   ]
  },
  {
   "cell_type": "markdown",
   "id": "78d28c71-1b94-461b-bbe8-33b49f51b8bb",
   "metadata": {},
   "source": [
    "Checando se subiu o servidor"
   ]
  },
  {
   "cell_type": "code",
   "execution_count": 5,
   "id": "7ccbc671-691c-43f8-aee5-8fd4f9ece0b3",
   "metadata": {},
   "outputs": [],
   "source": [
    "def subir_servidor_se_nao_up():\n",
    "    \n",
    "    try:\n",
    "        assert get_request('/')['info']['title'] == 'Middleware_orcamento'\n",
    "    except:\n",
    "        run_server()"
   ]
  },
  {
   "cell_type": "code",
   "execution_count": 6,
   "id": "29866d03-accc-42f1-89d2-c9f137c1c4fa",
   "metadata": {},
   "outputs": [],
   "source": [
    "subir_servidor_se_nao_up()"
   ]
  },
  {
   "cell_type": "code",
   "execution_count": 7,
   "id": "5b5016af-1952-47e9-8e41-40e39f42f643",
   "metadata": {},
   "outputs": [],
   "source": [
    "assert get_request('/')['info']['title'] == 'Middleware_orcamento'"
   ]
  },
  {
   "cell_type": "code",
   "execution_count": 8,
   "id": "6a4f719a-f213-4d37-a69a-9686ead10a2d",
   "metadata": {},
   "outputs": [],
   "source": [
    "swagger = get_request('')"
   ]
  },
  {
   "cell_type": "markdown",
   "id": "b3a5768c-8746-4f3c-8eea-c29b8d861dc9",
   "metadata": {},
   "source": [
    "Listando endpoints"
   ]
  },
  {
   "cell_type": "code",
   "execution_count": 9,
   "id": "fd9596c1-7726-462b-be31-3e9f929cfabe",
   "metadata": {},
   "outputs": [
    {
     "data": {
      "text/plain": [
       "dict_keys(['/v1/empenhos/nota_empenho', '/v1/empenhos/processo', '/v1/empenhos/dotacao'])"
      ]
     },
     "execution_count": 9,
     "metadata": {},
     "output_type": "execute_result"
    }
   ],
   "source": [
    "swagger['paths'].keys()"
   ]
  },
  {
   "cell_type": "code",
   "execution_count": 10,
   "id": "7391a989-0478-4bdc-b87d-56ee0614a03a",
   "metadata": {},
   "outputs": [],
   "source": [
    "def search_empenhos(val:str, tipo:str, ano=2022, mes=1):\n",
    "    \n",
    "    if type(val) != str:\n",
    "        val = str(val)\n",
    "    \n",
    "    mapp_endpoint = {\n",
    "        'nota_empenho' : '/v1/empenhos/nota_empenho',\n",
    "        'processo' : '/v1/empenhos/processo',\n",
    "        'dotacao' : '/v1/empenhos/dotacao'\n",
    "    }\n",
    "    \n",
    "    if tipo not in mapp_endpoint:\n",
    "        raise ValueError(f'Tipo must be in: {mapp_endpoint.keys()}')\n",
    "        \n",
    "    data = {\n",
    "        tipo : val,\n",
    "        'ano' : ano,\n",
    "        'mes' : mes\n",
    "    }\n",
    "    print(data)\n",
    "    return post_request(mapp_endpoint[tipo], data=data)"
   ]
  },
  {
   "cell_type": "markdown",
   "id": "150e38bf-f579-4fe8-a6ff-5c876fe844c0",
   "metadata": {},
   "source": [
    "Teste de consistência"
   ]
  },
  {
   "cell_type": "code",
   "execution_count": 11,
   "id": "f9cec3b1-c0ed-43d6-95b9-c8856673ef3b",
   "metadata": {},
   "outputs": [],
   "source": [
    "nota_empenho = \"16830/2022\""
   ]
  },
  {
   "cell_type": "code",
   "execution_count": 12,
   "id": "de368976-f697-4939-9d04-242a576d896d",
   "metadata": {},
   "outputs": [
    {
     "name": "stdout",
     "output_type": "stream",
     "text": [
      "{'nota_empenho': '16830/2022', 'ano': 2020, 'mes': 8}\n"
     ]
    }
   ],
   "source": [
    "resp_nota = search_empenhos(nota_empenho, 'nota_empenho', ano=2020, mes=8)"
   ]
  },
  {
   "cell_type": "code",
   "execution_count": 13,
   "id": "64d676a0-c392-4a53-846b-a13575990a65",
   "metadata": {},
   "outputs": [
    {
     "data": {
      "text/plain": [
       "{'data': [{'empenho_liquido': 66343.61,\n",
       "   'val_liquidado': 66343.61,\n",
       "   'dotacao': '37.10.15.122.3024.2.100.33503900.00',\n",
       "   'processo': 6066201600000670}],\n",
       " 'metadados': {'sucess': True, 'message': None}}"
      ]
     },
     "execution_count": 13,
     "metadata": {},
     "output_type": "execute_result"
    }
   ],
   "source": [
    "resp_nota"
   ]
  },
  {
   "cell_type": "code",
   "execution_count": 14,
   "id": "e956f741-bd5c-459f-bd1e-a21e4828d850",
   "metadata": {},
   "outputs": [],
   "source": [
    "proc = resp_nota['data'][0]['processo']"
   ]
  },
  {
   "cell_type": "code",
   "execution_count": 15,
   "id": "3aed8e05-2408-4baa-84ef-90d3beb9664b",
   "metadata": {},
   "outputs": [],
   "source": [
    "dotacao = resp_nota['data'][0]['dotacao']"
   ]
  },
  {
   "cell_type": "code",
   "execution_count": 16,
   "id": "8a94634d-660e-4277-ad0c-ed3614221ec5",
   "metadata": {},
   "outputs": [
    {
     "data": {
      "text/plain": [
       "6066201600000670"
      ]
     },
     "execution_count": 16,
     "metadata": {},
     "output_type": "execute_result"
    }
   ],
   "source": [
    "proc"
   ]
  },
  {
   "cell_type": "code",
   "execution_count": 17,
   "id": "1b322036-df72-4de2-a822-bd017b34b436",
   "metadata": {},
   "outputs": [
    {
     "name": "stdout",
     "output_type": "stream",
     "text": [
      "{'processo': '6066201600000670', 'ano': 2020, 'mes': 8}\n"
     ]
    }
   ],
   "source": [
    "resp_proc = search_empenhos(proc, 'processo', ano=2020, mes=8)"
   ]
  },
  {
   "cell_type": "code",
   "execution_count": 18,
   "id": "98c9a52b-fe7d-4db1-8d42-3f2e84f32634",
   "metadata": {},
   "outputs": [],
   "source": [
    "dotacoes = set([item['dotacao'] for item in resp_proc['data']])"
   ]
  },
  {
   "cell_type": "code",
   "execution_count": 19,
   "id": "5fc7f305-eaf8-4f3e-ab51-e118599c7774",
   "metadata": {},
   "outputs": [
    {
     "data": {
      "text/plain": [
       "{'29.10.15.122.3024.2.100.33503900.00',\n",
       " '29.10.15.122.3024.2.100.33504800.00',\n",
       " '29.10.15.122.3024.2.100.33903900.00',\n",
       " '37.10.15.122.3024.2.100.33503900.00',\n",
       " '37.10.15.122.3024.2.100.33504800.00',\n",
       " '37.10.15.122.3024.2.100.33903900.00'}"
      ]
     },
     "execution_count": 19,
     "metadata": {},
     "output_type": "execute_result"
    }
   ],
   "source": [
    "dotacoes"
   ]
  },
  {
   "cell_type": "code",
   "execution_count": 20,
   "id": "0adeeff0-2491-4652-9c2a-b930c0b64690",
   "metadata": {},
   "outputs": [],
   "source": [
    "assert dotacao in dotacoes"
   ]
  },
  {
   "cell_type": "code",
   "execution_count": 21,
   "id": "ebd279a0-e076-4155-8338-c9456a0db851",
   "metadata": {},
   "outputs": [
    {
     "name": "stdout",
     "output_type": "stream",
     "text": [
      "{'dotacao': '37.10.15.122.3024.2.100.33503900.00', 'ano': 2020, 'mes': 8}\n"
     ]
    }
   ],
   "source": [
    "resp_dotacao = search_empenhos(dotacao, 'dotacao', ano=2020, mes=8)"
   ]
  },
  {
   "cell_type": "code",
   "execution_count": 22,
   "id": "92f9cb0f-4977-46e9-b187-e9a524804599",
   "metadata": {},
   "outputs": [
    {
     "data": {
      "text/plain": [
       "{'data': [{'empenho_liquido': 394057.5,\n",
       "   'val_liquidado': 281459.77,\n",
       "   'dotacao': '37.10.15.122.3024.2.100.33503900.00',\n",
       "   'processo': None}],\n",
       " 'metadados': {'sucess': True, 'message': None}}"
      ]
     },
     "execution_count": 22,
     "metadata": {},
     "output_type": "execute_result"
    }
   ],
   "source": [
    "resp_dotacao"
   ]
  },
  {
   "cell_type": "code",
   "execution_count": null,
   "id": "0e79866c-face-4604-b732-02823113a821",
   "metadata": {},
   "outputs": [],
   "source": []
  }
 ],
 "metadata": {
  "kernelspec": {
   "display_name": "Python 3",
   "language": "python",
   "name": "python3"
  },
  "language_info": {
   "codemirror_mode": {
    "name": "ipython",
    "version": 3
   },
   "file_extension": ".py",
   "mimetype": "text/x-python",
   "name": "python",
   "nbconvert_exporter": "python",
   "pygments_lexer": "ipython3",
   "version": "3.8.8"
  }
 },
 "nbformat": 4,
 "nbformat_minor": 5
}
